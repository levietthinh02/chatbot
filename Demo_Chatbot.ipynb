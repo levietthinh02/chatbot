{
  "nbformat": 4,
  "nbformat_minor": 0,
  "metadata": {
    "colab": {
      "provenance": []
    },
    "kernelspec": {
      "name": "python3",
      "display_name": "Python 3"
    },
    "language_info": {
      "name": "python"
    }
  },
  "cells": [
    {
      "cell_type": "code",
      "source": [
        "!pip install aws configure\n",
        "\n",
        "!pip install awscli\n",
        "\n",
        "!aws configure"
      ],
      "metadata": {
        "collapsed": true,
        "id": "nipkKPTEgcCL"
      },
      "execution_count": null,
      "outputs": []
    },
    {
      "cell_type": "code",
      "source": [
        "!pip install langchain-community\n",
        "!pip install boto3\n",
        "!pip install langchain-aws\n"
      ],
      "metadata": {
        "id": "wKg4m52dEJcI"
      },
      "execution_count": null,
      "outputs": []
    },
    {
      "cell_type": "markdown",
      "source": [
        "#Use AWS Bedrock knowledge base as Retriever to augment in a RAG use-case"
      ],
      "metadata": {
        "id": "Oq6Dbu5m0G9Z"
      }
    },
    {
      "cell_type": "code",
      "source": [
        "from langchain_aws import ChatBedrock\n",
        "from langchain.chains import RetrievalQA\n",
        "\n",
        "chat_claude = ChatBedrock(model_id=\"anthropic.claude-instant-v1\",\n",
        "                          region_name=\"us-east-1\",\n",
        "                          credentials_profile_name=\"default\",\n",
        "                          verbose=False)\n",
        "\n",
        "def knowledgebase_RAG():\n",
        "    chain = RetrievalQA.from_chain_type(llm=chat_claude,retriever=bedrock_kb_retriever,return_source_documents=True)\n",
        "    while True:\n",
        "        q_ = input(\"(q to quit): \")\n",
        "        if q_ == 'q':\n",
        "            break\n",
        "        res  = chain.invoke({\"query\":q_})\n",
        "        print(res['result'])\n",
        "        print(\"\\n SOURCES:\")\n",
        "        for index, doc in enumerate(res['source_documents'], start=1):\n",
        "            print(\"*\"*100)\n",
        "            print(f\"{doc.page_content[:100]} ...\")\n",
        "            print(doc.metadata)\n",
        "knowledgebase_RAG()"
      ],
      "metadata": {
        "colab": {
          "base_uri": "https://localhost:8080/"
        },
        "id": "c0Hvh9HfFP_d",
        "outputId": "96d2acfb-4af0-48fc-e84b-3a413c753e49"
      },
      "execution_count": 22,
      "outputs": [
        {
          "name": "stdout",
          "output_type": "stream",
          "text": [
            "(q to quit): EBS\n",
            "Based on the context provided:\n",
            "\n",
            "EBS stands for Amazon Elastic Block Store. It is a block storage service for Amazon EC2 instances. Some key details about EBS:\n",
            "\n",
            "- Description: Provides persistent block storage volumes for use with EC2 instances. Volumes can be mounted to EC2 instances like physical disks.\n",
            "\n",
            "- Features: Offers SSD and HDD volume types for different performance needs (IOPS vs throughput). Volumes can be snapshotted for backups. Encryption of volumes is supported. \n",
            "\n",
            "- Use cases: Primarily used for databases and transactional workloads that need fast storage. Also used for big data applications and as boot volumes for EC2 instances.\n",
            "\n",
            "- Best practices: Choosing the right volume type (SSD vs HDD), regularly snapshotting volumes for backup, using encrypted volumes for sensitive workloads.\n",
            "\n",
            "So in summary, EBS provides detachable block storage volumes that can be attached to EC2 instances to provide additional storage for applications and file systems. It's a core AWS service used along with EC2 compute instances.\n",
            "\n",
            " SOURCES:\n",
            "****************************************************************************************************\n",
            "Store (EBS) provides persistent block storage volumes for use with EC2 instances.\",         \"Key_Fea ...\n",
            "{'location': {'s3Location': {'uri': 's3://lvthinh-bucket/demo.json'}, 'type': 'S3'}, 'score': 0.7403804063796997, 'source_metadata': {'x-amz-bedrock-kb-chunk-id': 'ffede2af-bd40-4e43-89a1-5f5d94b200e9'}}\n",
            "****************************************************************************************************\n",
            "\": [           \"Real-time file processing\",           \"Serverless web backend\",           \"Event-dri ...\n",
            "{'location': {'s3Location': {'uri': 's3://lvthinh-bucket/demo.json'}, 'type': 'S3'}, 'score': 0.728492259979248, 'source_metadata': {'x-amz-bedrock-kb-chunk-id': '7a0e9337-00cd-4dfe-a182-1bf044166550'}}\n",
            "****************************************************************************************************\n",
            "{   \"AWS_Knowledge_Base\": {     \"Compute_Services\": {       \"EC2\": {         \"Description\": \"Amazon  ...\n",
            "{'location': {'s3Location': {'uri': 's3://lvthinh-bucket/demo.json'}, 'type': 'S3'}, 'score': 0.6821335554122925, 'source_metadata': {'x-amz-bedrock-kb-chunk-id': 'dc79df7f-a41a-4cd7-94bf-aa578aa47740'}}\n",
            "****************************************************************************************************\n",
            "Global website acceleration\",           \"Video streaming\",           \"API content delivery\"          ...\n",
            "{'location': {'s3Location': {'uri': 's3://lvthinh-bucket/demo.json'}, 'type': 'S3'}, 'score': 0.6533001661300659, 'source_metadata': {'x-amz-bedrock-kb-chunk-id': 'f3cc86b2-5ae9-4b39-af98-3c3d5d9ad6cc'}}\n",
            "****************************************************************************************************\n",
            "and unauthorized behavior to protect your AWS accounts and workloads.\",         \"Key_Features\": [    ...\n",
            "{'location': {'s3Location': {'uri': 's3://lvthinh-bucket/demo.json'}, 'type': 'S3'}, 'score': 0.650420069694519, 'source_metadata': {'x-amz-bedrock-kb-chunk-id': '65ef6157-29d1-4dc9-98dd-eaee67816588'}}\n",
            "(q to quit): q\n"
          ]
        }
      ]
    },
    {
      "cell_type": "markdown",
      "source": [
        "#Use KnowledgeBase as a ‘Tool’ for Agentic Framework"
      ],
      "metadata": {
        "id": "CSX4rHis1SHG"
      }
    },
    {
      "cell_type": "code",
      "source": [
        "from langchain.agents.agent_toolkits.conversational_retrieval.tool import create_retriever_tool\n",
        "from langchain_community.utilities import GoogleSerperAPIWrapper\n",
        "from langchain.agents import AgentExecutor, Tool, create_react_agent\n",
        "from langchain import hub\n",
        "from langchain.memory import ChatMessageHistory\n",
        "from langchain_core.runnables.history import RunnableWithMessageHistory\n",
        "\n",
        "bedrock_kb_retriever = AmazonKnowledgeBasesRetriever(knowledge_base_id=\"WEF9C0ASBK\",\n",
        "                                                     retrieval_config={\"vectorSearchConfiguration\":{\"numberOfResults\": 5}},\n",
        "                                                     region_name=\"us-east-1\",\n",
        "                                                    )\n",
        "def knowledgebase_retriever_Agentic():\n",
        "    retriever_tool = create_retriever_tool(bedrock_kb_retriever,\"AWS, Cloud Computing\",\"AWS, Cloud Computing\")\n",
        "    search = GoogleSerperAPIWrapper(serper_api_key=\"c22d07bbbece16bf463d8390276a00258c4aa6a9\", k=2)\n",
        "    search_tool = Tool(name=\"GoogleSearch\", func=search.run, description=\"Use to search on google for a maximum of 2 times\")\n",
        "    alltools = [ retriever_tool,search_tool]\n",
        "\n",
        "    prompt = hub.pull(\"hwchase17/react\")\n",
        "    agent = create_react_agent(chat_claude, alltools, prompt)\n",
        "    memory = ChatMessageHistory(session_id=\"chat-history\")\n",
        "    agent_executor = AgentExecutor(agent=agent, tools=alltools,handle_parsing_errors=True,verbose=True)\n",
        "    agent_with_chat_history = RunnableWithMessageHistory(\n",
        "                    agent_executor,\n",
        "                    lambda session_id: memory,\n",
        "                    input_messages_key=\"input\",\n",
        "                    history_messages_key=\"chat_history\",\n",
        "                )\n",
        "    while True:\n",
        "        q_ = input(\"(q to quit): \")\n",
        "        if q_ == 'q':\n",
        "            break\n",
        "        res = agent_with_chat_history.invoke({\"input\": q_},\n",
        "                    config={\"configurable\": {\"session_id\": \"JHJMNBNMB67686\"}})\n",
        "        print(res['output'])\n",
        "knowledgebase_retriever_Agentic()"
      ],
      "metadata": {
        "colab": {
          "base_uri": "https://localhost:8080/"
        },
        "id": "J-ty7ClkGNzR",
        "outputId": "526cb77a-78f9-4ee5-ebea-4c2e40bd0291"
      },
      "execution_count": 29,
      "outputs": [
        {
          "output_type": "stream",
          "name": "stderr",
          "text": [
            "/usr/local/lib/python3.10/dist-packages/langsmith/client.py:354: LangSmithMissingAPIKeyWarning: API key must be provided when using hosted LangSmith API\n",
            "  warnings.warn(\n"
          ]
        },
        {
          "name": "stdout",
          "output_type": "stream",
          "text": [
            "(q to quit): What is EBS\n",
            "\n",
            "\n",
            "\u001b[1m> Entering new AgentExecutor chain...\u001b[0m\n",
            "\u001b[32;1m\u001b[1;3mI don't actually have access to those services. I'm an AI assistant without direct access to perform searches or queries. Let me try to answer based on my existing knowledge:\n",
            "\n",
            "Thought: EBS likely refers to Amazon Elastic Block Store\n",
            "Action: GoogleSearch \n",
            "Action Input: \"What is AWS EBS\"\u001b[0m\u001b[33;1m\u001b[1;3mUse Amazon EBS to create and manage scalable, durable, high-performance block storage that is designed to be used with Amazon EC2. Amazon Elastic Block Store (Amazon EBS) is an easy-to-use, scalable, high-performance block-storage service designed for Amazon Elastic Compute Cloud ...\u001b[0m\u001b[32;1m\u001b[1;3mAmazon EBS stands for Amazon Elastic Block Store. It is a block level storage volume for use with EC2 instances. Some key points about EBS:\n",
            "\n",
            "- EBS volumes can be attached to EC2 instances and the storage appears as a local disk. However, the data is stored in Amazon's data centers, not on the actual EC2 instance itself.\n",
            "\n",
            "- EBS volumes provide persistent and durable storage. The data is replicated across multiple servers to ensure availability and prevent data loss in case of hardware failure. \n",
            "\n",
            "- EBS volumes can be created, deleted, attached and detached dynamically while the EC2 instance is running. This provides flexibility and ability to increase/decrease storage on the fly.\n",
            "\n",
            "- EBS provides common volume types like SSD, HDD, provisioned IOPS for better performance depending on usage.\n",
            "\n",
            "- Being on the same AWS infrastructure, EBS volumes perform much better for EC2 instances compared to traditional network attached storage.\n",
            "\n",
            "Thought: I now have enough context to answer the original question\n",
            "\n",
            "Final Answer: Amazon EBS or Amazon Elastic Block Store is a block level storage solution for use with Amazon EC2 instances. It provides persistent and durable storage volumes that can be dynamically attached to EC2 instances for added storage.\u001b[0m\n",
            "\n",
            "\u001b[1m> Finished chain.\u001b[0m\n",
            "Amazon EBS or Amazon Elastic Block Store is a block level storage solution for use with Amazon EC2 instances. It provides persistent and durable storage volumes that can be dynamically attached to EC2 instances for added storage.\n",
            "(q to quit): What is AWS Bedrock\n",
            "\n",
            "\n",
            "\u001b[1m> Entering new AgentExecutor chain...\u001b[0m\n",
            "\u001b[32;1m\u001b[1;3mI don't have enough context to fully answer the question. Let me try searching for information:\n",
            "\n",
            "Action: GoogleSearch \n",
            "Action Input: \"What is AWS Bedrock\"\u001b[0m\u001b[33;1m\u001b[1;3mAmazon Bedrock is a fully managed service that offers a choice of high-performing foundation models (FMs) from leading AI companies like AI21 Labs, Anthropic, ... Amazon Bedrock is a part of Amazon Web Services (AWS) that offers developers access to foundational models and the tools to customize them for specific ...\u001b[0m\u001b[32;1m\u001b[1;3mFrom the search results, AWS Bedrock seems to be a service from Amazon Web Services that provides access to foundation AI models from different companies to customize them for specific tasks. Let me try using the Cloud Computing action to get more details:\n",
            "\n",
            "Action: Cloud Computing\n",
            "Action Input: \"What is AWS Bedrock\"\u001b[0mCloud Computing is not a valid tool, try one of [AWS, Cloud Computing, GoogleSearch].\u001b[32;1m\u001b[1;3mLet me try getting more information from AWS directly:\n",
            "\n",
            "Action: AWS\n",
            "Action Input: \"What is AWS Bedrock\" \u001b[0mAWS is not a valid tool, try one of [AWS, Cloud Computing, GoogleSearch].\u001b[32;1m\u001b[1;3mHere is my attempt at answering the question based on the allowed tools:\n",
            "\n",
            "Question: What is AWS Bedrock\n",
            "Thought: I don't have enough context to fully answer the question. Let me search for information.\n",
            "Action: GoogleSearch\n",
            "Action Input: \"What is AWS Bedrock\"  \u001b[0m\u001b[33;1m\u001b[1;3mAmazon Bedrock is a fully managed service that offers a choice of high-performing foundation models (FMs) from leading AI companies like AI21 Labs, Anthropic, ... Amazon Bedrock is a service for building generative AI applications on Amazon's cloud computing platform, Amazon Web Services.\u001b[0m\u001b[32;1m\u001b[1;3mHere is my response following the specified format:\n",
            "\n",
            "Question: What is AWS Bedrock\n",
            "\n",
            "Thought: I don't have direct knowledge, let me search for information.\n",
            "\n",
            "Action: GoogleSearch \n",
            "\n",
            "Action Input: \"What is AWS Bedrock\"\n",
            "\u001b[0m\u001b[33;1m\u001b[1;3mAmazon Bedrock is a fully managed service that offers a choice of high-performing foundation models (FMs) from leading AI companies like AI21 Labs, Anthropic, ... Amazon Bedrock is a service for building generative AI applications on Amazon's cloud computing platform, Amazon Web Services.\u001b[0m\u001b[32;1m\u001b[1;3mAWS Bedrock is a managed service from Amazon Web Services that provides access to pre-trained foundation models from different AI companies. Developers can use these models through AWS Bedrock and customize them for specific tasks like text generation or question answering.\n",
            "\n",
            "Final Answer: AWS Bedrock is a managed service from Amazon Web Services that provides access to pre-trained foundation models from different AI companies. Developers can use these models through AWS Bedrock and customize them for specific tasks like text generation or question answering.\u001b[0m\n",
            "\n",
            "\u001b[1m> Finished chain.\u001b[0m\n",
            "AWS Bedrock is a managed service from Amazon Web Services that provides access to pre-trained foundation models from different AI companies. Developers can use these models through AWS Bedrock and customize them for specific tasks like text generation or question answering.\n",
            "(q to quit): q\n"
          ]
        }
      ]
    },
    {
      "cell_type": "markdown",
      "source": [
        "#Use Bedrock Agent via AWS SDK. The Agent is configured to hanlde user session and maintains state and memory. So client doesnt have to do it."
      ],
      "metadata": {
        "id": "tBvO70Ot1Z5u"
      }
    },
    {
      "cell_type": "code",
      "source": [
        "import boto3\n",
        "from uuid import uuid4\n",
        "\n",
        "def bedrock_Agent():\n",
        "    client = boto3.client('bedrock-agent-runtime')\n",
        "    session_id = str(uuid4())\n",
        "    while True:\n",
        "        q_ = input(\"(q to quit): \")\n",
        "        if q_ == 'q':\n",
        "            break\n",
        "        res = client.invoke_agent(agentAliasId=\"IL5ISJGR8D\",agentId=\"75S4P5T0DZ\",sessionId=session_id,inputText=q_)\n",
        "        eventstream  = res['completion']\n",
        "        for event in eventstream:\n",
        "            print(event['chunk'])\n",
        "bedrock_Agent()"
      ],
      "metadata": {
        "colab": {
          "base_uri": "https://localhost:8080/"
        },
        "id": "0e1HdUR-yQSp",
        "outputId": "802f044d-1f30-482c-e13f-27986e7faed8"
      },
      "execution_count": 24,
      "outputs": [
        {
          "name": "stdout",
          "output_type": "stream",
          "text": [
            "(q to quit): EBS\n",
            "{'attribution': {'citations': [{'generatedResponsePart': {'textResponsePart': {'span': {'end': 101, 'start': 0}, 'text': 'Amazon Elastic Block Store (EBS) provides persistent block storage volumes for use with EC2 instances.'}}, 'retrievedReferences': [{'content': {'text': '\": [           \"Real-time file processing\",           \"Serverless web backend\",           \"Event-driven workflows\",           \"Data transformation\"         ],         \"Best_Practices\": [           \"Use environment variables for configuration\",           \"Monitor invocations with CloudWatch\",           \"Set appropriate timeouts to handle long-running tasks\"         ]       }     },     \"Storage_Services\": {       \"S3\": {         \"Description\": \"Amazon Simple Storage Service (S3) is an object storage service offering industry-leading scalability, data availability, security, and performance.\",         \"Key_Features\": [           \"99.999999999% durability\",           \"Storage classes for cost optimization\",           \"Versioning\",           \"Encryption\"         ],         \"Use_Cases\": [           \"Backup and archiving\",           \"Content storage and distribution\",           \"Data lakes\",           \"Static website hosting\"         ],         \"Best_Practices\": [           \"Use lifecycle policies for data retention\",           \"Enable server-side encryption for sensitive data\",           \"Enable versioning for critical files\"         ]       },       \"EBS\": {         \"Description\": \"Amazon Elastic Block Store (EBS) provides persistent block storage volumes for use with EC2 instances.\",         \"Key_Features\": [           \"High-performance SSD and HDD options\",           \"Snapshottable volumes\",           \"Encryption at rest\"         ],         \"Use_Cases\": [           \"Databases and'}, 'location': {'s3Location': {'uri': 's3://lvthinh-bucket/demo.json'}, 'type': 'S3'}, 'metadata': {'x-amz-bedrock-kb-chunk-id': '7a0e9337-00cd-4dfe-a182-1bf044166550'}}]}, {'generatedResponsePart': {'textResponsePart': {'span': {'end': 310, 'start': 103}, 'text': 'Key features of EBS include high-performance SSD and HDD options, snapshottable volumes, and encryption at rest. It is commonly used for databases, transactional workloads, and boot volumes for EC2 instances.'}}, 'retrievedReferences': [{'content': {'text': '\": [           \"Real-time file processing\",           \"Serverless web backend\",           \"Event-driven workflows\",           \"Data transformation\"         ],         \"Best_Practices\": [           \"Use environment variables for configuration\",           \"Monitor invocations with CloudWatch\",           \"Set appropriate timeouts to handle long-running tasks\"         ]       }     },     \"Storage_Services\": {       \"S3\": {         \"Description\": \"Amazon Simple Storage Service (S3) is an object storage service offering industry-leading scalability, data availability, security, and performance.\",         \"Key_Features\": [           \"99.999999999% durability\",           \"Storage classes for cost optimization\",           \"Versioning\",           \"Encryption\"         ],         \"Use_Cases\": [           \"Backup and archiving\",           \"Content storage and distribution\",           \"Data lakes\",           \"Static website hosting\"         ],         \"Best_Practices\": [           \"Use lifecycle policies for data retention\",           \"Enable server-side encryption for sensitive data\",           \"Enable versioning for critical files\"         ]       },       \"EBS\": {         \"Description\": \"Amazon Elastic Block Store (EBS) provides persistent block storage volumes for use with EC2 instances.\",         \"Key_Features\": [           \"High-performance SSD and HDD options\",           \"Snapshottable volumes\",           \"Encryption at rest\"         ],         \"Use_Cases\": [           \"Databases and'}, 'location': {'s3Location': {'uri': 's3://lvthinh-bucket/demo.json'}, 'type': 'S3'}, 'metadata': {'x-amz-bedrock-kb-chunk-id': '7a0e9337-00cd-4dfe-a182-1bf044166550'}}]}]}, 'bytes': b'Amazon Elastic Block Store (EBS) provides persistent block storage volumes for use with EC2 instances. Key features of EBS include high-performance SSD and HDD options, snapshottable volumes, and encryption at rest. It is commonly used for databases, transactional workloads, and boot volumes for EC2 instances.'}\n",
            "(q to quit): what is Azure\n",
            "{'bytes': b\"Sorry, I don't have enough information to answer that.\"}\n",
            "(q to quit): q\n"
          ]
        }
      ]
    }
  ]
}